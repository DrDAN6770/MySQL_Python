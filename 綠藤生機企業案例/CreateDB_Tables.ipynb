{
 "cells": [
  {
   "cell_type": "code",
   "execution_count": 1,
   "metadata": {},
   "outputs": [],
   "source": [
    "%run using_func.ipynb"
   ]
  },
  {
   "cell_type": "code",
   "execution_count": 2,
   "metadata": {},
   "outputs": [],
   "source": [
    "create_DB('AC_greenvines')\n"
   ]
  },
  {
   "cell_type": "code",
   "execution_count": 3,
   "metadata": {},
   "outputs": [
    {
     "name": "stdout",
     "output_type": "stream",
     "text": [
      "ac_greenvines\n"
     ]
    }
   ],
   "source": [
    "# 檢查DB\n",
    "conn = conn_login()\n",
    "cursor = conn.cursor()\n",
    "cursor.execute(f\"SHOW DATABASES LIKE '{'AC_greenvines'.lower()}';\")\n",
    "data = cursor.fetchall()\n",
    "if data:\n",
    "    print(data[0][0])\n",
    "cursor.close()\n",
    "conn.close()"
   ]
  },
  {
   "attachments": {},
   "cell_type": "markdown",
   "metadata": {},
   "source": [
    "# 建立Table"
   ]
  },
  {
   "cell_type": "code",
   "execution_count": 15,
   "metadata": {},
   "outputs": [],
   "source": [
    "from sqlalchemy import create_engine\n",
    "db_connection_str = f\"mysql+mysqlconnector://{info['user']}:{info['password']}@{info['host']}:{info['port']}/{info['DB']}\""
   ]
  },
  {
   "cell_type": "code",
   "execution_count": null,
   "metadata": {},
   "outputs": [],
   "source": [
    "engine = create_engine(db_connection_str)\n",
    "\n",
    "csv_files = ['table 1. Customers.csv',\n",
    "             'table 2. Orders.csv',\n",
    "             'table 3. OrderDetails.csv',\n",
    "             'table 4. Products.csv',\n",
    "             'table 5. Channels.csv']\n",
    "\n",
    "for file in csv_files:\n",
    "    df = pd.read_csv(file)\n",
    "    table_name = file.replace('.csv','').replace('.', '_').replace(' ', '')\n",
    "    df.to_sql(table_name, engine, if_exists='replace', index=False)\n",
    "\n",
    "engine.dispose()"
   ]
  },
  {
   "cell_type": "code",
   "execution_count": 24,
   "metadata": {},
   "outputs": [
    {
     "name": "stdout",
     "output_type": "stream",
     "text": [
      "table1_customers\n",
      "table2_orders\n",
      "table3_orderdetails\n",
      "table4_products\n",
      "table5_channels\n"
     ]
    }
   ],
   "source": [
    "# check tables\n",
    "conn = conn_login()\n",
    "cursor = conn.cursor()\n",
    "cursor.execute('SHOW TABLES')\n",
    "for row in cursor.fetchall():\n",
    "    print(row[0])\n",
    "cursor.close()\n",
    "conn.close()"
   ]
  }
 ],
 "metadata": {
  "kernelspec": {
   "display_name": "Python 3",
   "language": "python",
   "name": "python3"
  },
  "language_info": {
   "codemirror_mode": {
    "name": "ipython",
    "version": 3
   },
   "file_extension": ".py",
   "mimetype": "text/x-python",
   "name": "python",
   "nbconvert_exporter": "python",
   "pygments_lexer": "ipython3",
   "version": "3.11.2"
  },
  "orig_nbformat": 4
 },
 "nbformat": 4,
 "nbformat_minor": 2
}
