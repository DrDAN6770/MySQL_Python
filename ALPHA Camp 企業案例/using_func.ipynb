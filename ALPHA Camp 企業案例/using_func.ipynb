{
 "cells": [
  {
   "cell_type": "code",
   "execution_count": 2,
   "metadata": {},
   "outputs": [],
   "source": [
    "import pandas as pd\n",
    "import mysql.connector\n",
    "import dotenv\n",
    "from IPython.display import display\n",
    "info = dotenv.dotenv_values('.env')\n",
    "\n",
    "def create_DB(DBname):\n",
    "    connection = mysql.connector.connect(\n",
    "            host = info['host'],\n",
    "            port = info[\"port\"],\n",
    "            user = info[\"user\"],\n",
    "            password = info[\"password\"]\n",
    "    )\n",
    "    cursor = connection.cursor()\n",
    "    cursor.execute(f\"CREATE DATABASE IF NOT EXISTS {DBname}\")\n",
    "    connection.commit()\n",
    "    cursor.close()\n",
    "    connection.close()\n",
    "\n",
    "def conn_login():\n",
    "    connection = mysql.connector.connect(\n",
    "            host = info['host'],\n",
    "            port = info[\"port\"],\n",
    "            user = info[\"user\"],\n",
    "            password = info[\"password\"],\n",
    "            database = info[\"DB\"]\n",
    "    )\n",
    "    return connection\n",
    "\n",
    "def SQL_to_DF(tablename :str, DF_tables:dict = {}) -> dict:\n",
    "    global cursor\n",
    "    cursor.execute(f'SELECT * FROM {tablename}')\n",
    "    data = cursor.fetchall()\n",
    "\n",
    "    # .description 在執行SLECTE後，會返回結果的tuple\n",
    "    columns = [table_col_name[0] for table_col_name in cursor.description]\n",
    "    df = pd.DataFrame(data, columns=columns)\n",
    "    DF_tables[tablename] = df\n",
    "    return DF_tables\n",
    "\n",
    "def fetchall_TO_DF(data:tuple):\n",
    "    columns = [table_col_name[0] for table_col_name in cursor.description]\n",
    "    df = pd.DataFrame(data, columns=columns)\n",
    "    return df\n",
    "\n",
    "def DF_display(df):\n",
    "    for k, v in df.items():\n",
    "        print(k)\n",
    "        display(v)"
   ]
  }
 ],
 "metadata": {
  "kernelspec": {
   "display_name": "Python 3",
   "language": "python",
   "name": "python3"
  },
  "language_info": {
   "codemirror_mode": {
    "name": "ipython",
    "version": 3
   },
   "file_extension": ".py",
   "mimetype": "text/x-python",
   "name": "python",
   "nbconvert_exporter": "python",
   "pygments_lexer": "ipython3",
   "version": "3.11.2"
  },
  "orig_nbformat": 4
 },
 "nbformat": 4,
 "nbformat_minor": 2
}
