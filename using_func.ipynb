{
 "cells": [
  {
   "cell_type": "code",
   "execution_count": null,
   "metadata": {},
   "outputs": [],
   "source": [
    "import pandas as pd\n",
    "import mysql.connector\n",
    "from IPython.display import display\n",
    "\n",
    "def conn_login():\n",
    "    connection = mysql.connector.connect(\n",
    "        host = \"your host\",\n",
    "        port = \"your port\",\n",
    "        user = \"your username\",\n",
    "        password = \"your password\",\n",
    "        database = \"your DB\"\n",
    "    )\n",
    "    return connection\n",
    "\n",
    "def SQL_to_DF(tablename :str, DF_tables:dict = {}) -> dict:\n",
    "    global cursor\n",
    "    cursor.execute(f'SELECT * FROM {tablename}')\n",
    "    data = cursor.fetchall()\n",
    "\n",
    "    # .description 在執行SLECTE後，會返回結果的tuple\n",
    "    columns = [table_col_name[0] for table_col_name in cursor.description]\n",
    "    df = pd.DataFrame(data, columns=columns)\n",
    "    DF_tables[tablename] = df\n",
    "    return DF_tables\n",
    "\n",
    "def fetchall_TO_DF(data:tuple):\n",
    "    columns = [table_col_name[0] for table_col_name in cursor.description]\n",
    "    df = pd.DataFrame(data, columns=columns)\n",
    "    return df\n",
    "\n",
    "def DF_display(df):\n",
    "    for k, v in df.items():\n",
    "        print(k)\n",
    "        display(v)"
   ]
  }
 ],
 "metadata": {
  "kernelspec": {
   "display_name": "Python 3",
   "language": "python",
   "name": "python3"
  },
  "language_info": {
   "name": "python",
   "version": "3.11.2"
  },
  "orig_nbformat": 4
 },
 "nbformat": 4,
 "nbformat_minor": 2
}
